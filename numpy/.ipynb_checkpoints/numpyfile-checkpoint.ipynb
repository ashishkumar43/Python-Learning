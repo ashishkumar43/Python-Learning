{
 "cells": [
  {
   "cell_type": "code",
   "execution_count": 1,
   "id": "85f3f79f-fae2-4dd4-94a3-de05a61f7873",
   "metadata": {},
   "outputs": [],
   "source": [
    "import numpy as np"
   ]
  },
  {
   "cell_type": "code",
   "execution_count": null,
   "id": "dd735175-16be-4b04-a8c9-e851023293c6",
   "metadata": {},
   "outputs": [],
   "source": [
    "# efficient memory management hota hai"
   ]
  },
  {
   "cell_type": "code",
   "execution_count": 3,
   "id": "84a48a90-c765-409a-859e-2b5ff76e2e55",
   "metadata": {},
   "outputs": [
    {
     "name": "stdout",
     "output_type": "stream",
     "text": [
      "hello World\n"
     ]
    }
   ],
   "source": [
    "print(\"hello World\")"
   ]
  },
  {
   "cell_type": "code",
   "execution_count": 5,
   "id": "2caeb380-25c8-478b-83b5-0005f9e63d79",
   "metadata": {},
   "outputs": [],
   "source": [
    "# import sklearn"
   ]
  },
  {
   "cell_type": "code",
   "execution_count": 8,
   "id": "0875bf50-14d4-42ef-b569-473a3a912c5f",
   "metadata": {},
   "outputs": [],
   "source": [
    "i=45"
   ]
  },
  {
   "cell_type": "code",
   "execution_count": 6,
   "id": "8c8c19df-1aa8-41ad-8529-ce3c9b4e3292",
   "metadata": {},
   "outputs": [
    {
     "name": "stdout",
     "output_type": "stream",
     "text": [
      "7\n"
     ]
    }
   ],
   "source": [
    "print(7)"
   ]
  },
  {
   "cell_type": "code",
   "execution_count": 9,
   "id": "1a0b825f-b967-46cb-ba1a-7972f4bc5957",
   "metadata": {},
   "outputs": [
    {
     "data": {
      "text/plain": [
       "45"
      ]
     },
     "execution_count": 9,
     "metadata": {},
     "output_type": "execute_result"
    }
   ],
   "source": [
    "i"
   ]
  },
  {
   "cell_type": "code",
   "execution_count": 19,
   "id": "3b677335-9f2d-4a28-8531-134c9bf1ac18",
   "metadata": {},
   "outputs": [
    {
     "data": {
      "text/plain": [
       "3"
      ]
     },
     "execution_count": 19,
     "metadata": {},
     "output_type": "execute_result"
    }
   ],
   "source": [
    " myarr=np.array([3,6,7,8],np.int32)  #One-D array\n",
    "myarr\n",
    "myarr[0]"
   ]
  },
  {
   "cell_type": "code",
   "execution_count": 22,
   "id": "9d61dfeb-1d1b-455f-833e-c9ac33e7bdc3",
   "metadata": {},
   "outputs": [
    {
     "data": {
      "text/plain": [
       "6"
      ]
     },
     "execution_count": 22,
     "metadata": {},
     "output_type": "execute_result"
    }
   ],
   "source": [
    " myarr=np.array([[3,6,7,8]])  #two-D array\n",
    "myarr[0,1]"
   ]
  },
  {
   "cell_type": "code",
   "execution_count": 23,
   "id": "022d9cce-53df-4d2b-97f9-a7f195aeb321",
   "metadata": {},
   "outputs": [
    {
     "data": {
      "text/plain": [
       "(1, 4)"
      ]
     },
     "execution_count": 23,
     "metadata": {},
     "output_type": "execute_result"
    }
   ],
   "source": [
    "myarr.shape"
   ]
  },
  {
   "cell_type": "code",
   "execution_count": 24,
   "id": "1e6a9116-a8c2-49d4-a416-7c1c9fb2eb93",
   "metadata": {},
   "outputs": [
    {
     "data": {
      "text/plain": [
       "dtype('int32')"
      ]
     },
     "execution_count": 24,
     "metadata": {},
     "output_type": "execute_result"
    }
   ],
   "source": [
    "myarr.dtype"
   ]
  },
  {
   "cell_type": "code",
   "execution_count": 25,
   "id": "11c93d51-a30c-44d0-9ff3-f1b13793e4b0",
   "metadata": {},
   "outputs": [
    {
     "data": {
      "text/plain": [
       "array([[ 3, 35,  7,  8]])"
      ]
     },
     "execution_count": 25,
     "metadata": {},
     "output_type": "execute_result"
    }
   ],
   "source": [
    "myarr[0,1]=35\n",
    "myarr"
   ]
  },
  {
   "cell_type": "markdown",
   "id": "2a36c27a-6fa6-4fbc-87e1-9453abd68912",
   "metadata": {},
   "source": [
    "# Arraay creation conversion from other python structure"
   ]
  },
  {
   "cell_type": "code",
   "execution_count": 27,
   "id": "fd0ffdf5-ed22-486c-8ff7-fe61e81ca1a1",
   "metadata": {},
   "outputs": [
    {
     "data": {
      "text/plain": [
       "array([[1, 2, 3],\n",
       "       [6, 5, 7],\n",
       "       [1, 2, 1]])"
      ]
     },
     "execution_count": 27,
     "metadata": {},
     "output_type": "execute_result"
    }
   ],
   "source": [
    "listarr=np.array([[1,2,3],[6,5,7],[1,2,1]])\n",
    "listarr"
   ]
  },
  {
   "cell_type": "code",
   "execution_count": 28,
   "id": "d1a29e87-f658-4a71-90d2-4a4e33b5da76",
   "metadata": {},
   "outputs": [
    {
     "data": {
      "text/plain": [
       "dtype('int32')"
      ]
     },
     "execution_count": 28,
     "metadata": {},
     "output_type": "execute_result"
    }
   ],
   "source": [
    "listarr.dtype"
   ]
  },
  {
   "cell_type": "code",
   "execution_count": 29,
   "id": "857e2299-ba9f-46a1-83b7-174563d496c3",
   "metadata": {},
   "outputs": [
    {
     "data": {
      "text/plain": [
       "(3, 3)"
      ]
     },
     "execution_count": 29,
     "metadata": {},
     "output_type": "execute_result"
    }
   ],
   "source": [
    "listarr.shape"
   ]
  },
  {
   "cell_type": "code",
   "execution_count": 30,
   "id": "7461bc23-4761-4250-a7d7-edd0a574a8c0",
   "metadata": {},
   "outputs": [
    {
     "data": {
      "text/plain": [
       "9"
      ]
     },
     "execution_count": 30,
     "metadata": {},
     "output_type": "execute_result"
    }
   ],
   "source": [
    "listarr.size"
   ]
  },
  {
   "cell_type": "code",
   "execution_count": 32,
   "id": "324e5f52-a354-4a4b-9805-8761cfeab268",
   "metadata": {},
   "outputs": [
    {
     "data": {
      "text/plain": [
       "array({32, 35, 23}, dtype=object)"
      ]
     },
     "execution_count": 32,
     "metadata": {},
     "output_type": "execute_result"
    }
   ],
   "source": [
    "np.array({32,35,23}) #no much efficient to create a object"
   ]
  },
  {
   "cell_type": "code",
   "execution_count": 35,
   "id": "f3110187-159d-4841-8643-d48f6c92300b",
   "metadata": {},
   "outputs": [],
   "source": [
    "zeroes=np.zeros((2,2))"
   ]
  },
  {
   "cell_type": "code",
   "execution_count": 36,
   "id": "dd8f9a3d-3e8c-4e02-9ffa-43ee75cbeffe",
   "metadata": {},
   "outputs": [
    {
     "data": {
      "text/plain": [
       "array([[0., 0.],\n",
       "       [0., 0.]])"
      ]
     },
     "execution_count": 36,
     "metadata": {},
     "output_type": "execute_result"
    }
   ],
   "source": [
    "zeroes"
   ]
  },
  {
   "cell_type": "code",
   "execution_count": 38,
   "id": "263c151b-e9d7-47a1-8ef1-2568038d9c6f",
   "metadata": {},
   "outputs": [
    {
     "data": {
      "text/plain": [
       "dtype('float64')"
      ]
     },
     "execution_count": 38,
     "metadata": {},
     "output_type": "execute_result"
    }
   ],
   "source": [
    "zeroes.dtype"
   ]
  },
  {
   "cell_type": "code",
   "execution_count": 39,
   "id": "c6a578b4-f039-478f-961a-6b3b054f052c",
   "metadata": {},
   "outputs": [
    {
     "data": {
      "text/plain": [
       "4"
      ]
     },
     "execution_count": 39,
     "metadata": {},
     "output_type": "execute_result"
    }
   ],
   "source": [
    "zeroes.shape\n",
    "zeroes.size"
   ]
  },
  {
   "cell_type": "code",
   "execution_count": 41,
   "id": "57ed7493-dda4-4d1a-b5bc-6f17c90dfb02",
   "metadata": {},
   "outputs": [
    {
     "data": {
      "text/plain": [
       "array([0, 1, 2, 3, 4, 5, 6, 7, 8, 9])"
      ]
     },
     "execution_count": 41,
     "metadata": {},
     "output_type": "execute_result"
    }
   ],
   "source": [
    "range=np.arange(10)   #give the numpy array not list\n",
    "range"
   ]
  },
  {
   "cell_type": "code",
   "execution_count": 44,
   "id": "03ce0599-b11b-47ca-ba58-61b235c92ccc",
   "metadata": {},
   "outputs": [
    {
     "data": {
      "text/plain": [
       "array([1., 2., 3., 4.])"
      ]
     },
     "execution_count": 44,
     "metadata": {},
     "output_type": "execute_result"
    }
   ],
   "source": [
    "lspace=np.linspace(1,4,4)   #give the equal linear space dega 1 se 4 mai 4 element \n",
    "lspace"
   ]
  },
  {
   "cell_type": "code",
   "execution_count": 43,
   "id": "cedf3d6b-cc7a-48c5-945e-5adab9e938fe",
   "metadata": {},
   "outputs": [
    {
     "data": {
      "text/plain": [
       "array([1.        , 1.36363636, 1.72727273, 2.09090909, 2.45454545,\n",
       "       2.81818182, 3.18181818, 3.54545455, 3.90909091, 4.27272727,\n",
       "       4.63636364, 5.        ])"
      ]
     },
     "execution_count": 43,
     "metadata": {},
     "output_type": "execute_result"
    }
   ],
   "source": [
    "lspace=np.linspace(1,5,12)   #give the equal linear space dega 1 se 5 mai 12 element \n",
    "lspace"
   ]
  },
  {
   "cell_type": "code",
   "execution_count": 46,
   "id": "6c99ce56-687c-4f46-95fc-be79d24daf37",
   "metadata": {},
   "outputs": [
    {
     "data": {
      "text/plain": [
       "array([[6.23042070e-307, 4.67296746e-307, 1.69121096e-306,\n",
       "        1.24610994e-306, 1.42413555e-306, 1.78019082e-306],\n",
       "       [1.37960147e-306, 1.33511562e-306, 2.22518251e-306,\n",
       "        1.33511969e-306, 1.78022342e-306, 1.05700345e-307],\n",
       "       [1.69118108e-306, 8.06632139e-308, 1.20160711e-306,\n",
       "        1.69119330e-306, 2.22518251e-306, 1.33511969e-306],\n",
       "       [1.60220393e-306, 7.56599128e-307, 1.69119058e-306,\n",
       "        1.02360935e-306, 1.02360867e-306, 2.56765117e-312]])"
      ]
     },
     "execution_count": 46,
     "metadata": {},
     "output_type": "execute_result"
    }
   ],
   "source": [
    "empty=np.empty((4,6))   # 4,6 ka empty array dega random\n",
    "empty"
   ]
  },
  {
   "cell_type": "code",
   "execution_count": 47,
   "id": "fe923524-8ef0-4b94-a048-d3c61e5783a9",
   "metadata": {},
   "outputs": [
    {
     "data": {
      "text/plain": [
       "array([1., 2., 3., 4.])"
      ]
     },
     "execution_count": 47,
     "metadata": {},
     "output_type": "execute_result"
    }
   ],
   "source": [
    "emp_like=np.empty_like(lspace)\n",
    "emp_like"
   ]
  },
  {
   "cell_type": "code",
   "execution_count": 49,
   "id": "e52f31a6-cae5-4463-acc0-2181e4736b1e",
   "metadata": {},
   "outputs": [
    {
     "data": {
      "text/plain": [
       "array([[1., 0., 0.],\n",
       "       [0., 1., 0.],\n",
       "       [0., 0., 1.]])"
      ]
     },
     "execution_count": 49,
     "metadata": {},
     "output_type": "execute_result"
    }
   ],
   "source": [
    "identity=np.identity(3)\n",
    "identity"
   ]
  },
  {
   "cell_type": "code",
   "execution_count": 51,
   "id": "c8a53273-b0aa-4f5c-8116-1e6a9080a01e",
   "metadata": {},
   "outputs": [
    {
     "data": {
      "text/plain": [
       "(3, 3)"
      ]
     },
     "execution_count": 51,
     "metadata": {},
     "output_type": "execute_result"
    }
   ],
   "source": [
    "identity.shape"
   ]
  },
  {
   "cell_type": "code",
   "execution_count": 52,
   "id": "f7244285-8372-41ca-aa0b-e187dafb1872",
   "metadata": {},
   "outputs": [
    {
     "data": {
      "text/plain": [
       "9"
      ]
     },
     "execution_count": 52,
     "metadata": {},
     "output_type": "execute_result"
    }
   ],
   "source": [
    "identity.size"
   ]
  },
  {
   "cell_type": "code",
   "execution_count": 59,
   "id": "e9679f00-f28f-4541-a392-9fbcdf575772",
   "metadata": {},
   "outputs": [
    {
     "data": {
      "text/plain": [
       "array([ 0,  1,  2,  3,  4,  5,  6,  7,  8,  9, 10, 11, 12, 13, 14, 15, 16,\n",
       "       17, 18, 19, 20, 21, 22, 23, 24, 25, 26, 27, 28, 29, 30, 31, 32, 33,\n",
       "       34, 35])"
      ]
     },
     "execution_count": 59,
     "metadata": {},
     "output_type": "execute_result"
    }
   ],
   "source": [
    "arr=np.arange(36)\n",
    "arr"
   ]
  },
  {
   "cell_type": "code",
   "execution_count": 62,
   "id": "db5cc278-5cd1-4b65-b347-9d7b258bc38b",
   "metadata": {},
   "outputs": [
    {
     "data": {
      "text/plain": [
       "array([[ 0,  1,  2,  3,  4,  5,  6,  7,  8,  9, 10, 11],\n",
       "       [12, 13, 14, 15, 16, 17, 18, 19, 20, 21, 22, 23],\n",
       "       [24, 25, 26, 27, 28, 29, 30, 31, 32, 33, 34, 35]])"
      ]
     },
     "execution_count": 62,
     "metadata": {},
     "output_type": "execute_result"
    }
   ],
   "source": [
    "arr=arr.reshape(3,12)\n",
    "arr"
   ]
  },
  {
   "cell_type": "code",
   "execution_count": 64,
   "id": "47dacd1b-9751-4e13-9036-1bbb70e35e2d",
   "metadata": {},
   "outputs": [
    {
     "data": {
      "text/plain": [
       "array([ 0,  1,  2,  3,  4,  5,  6,  7,  8,  9, 10, 11, 12, 13, 14, 15, 16,\n",
       "       17, 18, 19, 20, 21, 22, 23, 24, 25, 26, 27, 28, 29, 30, 31, 32, 33,\n",
       "       34, 35])"
      ]
     },
     "execution_count": 64,
     "metadata": {},
     "output_type": "execute_result"
    }
   ],
   "source": [
    "arr=arr.ravel()   #sidha ho jayega"
   ]
  },
  {
   "cell_type": "code",
   "execution_count": 65,
   "id": "79fe4426-9fa3-4d76-9bbf-c52751c09152",
   "metadata": {},
   "outputs": [
    {
     "data": {
      "text/plain": [
       "(3, 12)"
      ]
     },
     "execution_count": 65,
     "metadata": {},
     "output_type": "execute_result"
    }
   ],
   "source": [
    "arr.shape\n"
   ]
  },
  {
   "cell_type": "code",
   "execution_count": null,
   "id": "8640541b-f07f-4235-bc5f-d87b87137cf9",
   "metadata": {},
   "outputs": [],
   "source": [
    "#Numpy Axis\n",
    "# 1D --> [1,2,3,4,5]   only 1 axis that is [Axis0] \n",
    "# 2D --> [[1,2,3],\n",
    "#         [4,5,6],\n",
    "#         [8,2,1]]     only 2 axis that is [Axis0,Axis1] \n",
    "#                      Axis0 --> row\n",
    "#                      Axis1 --> column"
   ]
  },
  {
   "cell_type": "code",
   "execution_count": 67,
   "id": "aaf594e8-6d7a-443f-8c60-deadf73e4bf4",
   "metadata": {},
   "outputs": [
    {
     "data": {
      "text/plain": [
       "[[1, 2, 3], [4, 5, 6], [8, 2, 1]]"
      ]
     },
     "execution_count": 67,
     "metadata": {},
     "output_type": "execute_result"
    }
   ],
   "source": [
    "x=[[1,2,3],[4,5,6],[8,2,1]]\n",
    "x"
   ]
  },
  {
   "cell_type": "code",
   "execution_count": 70,
   "id": "4eab2f0b-8a37-43db-abea-8a3b7fc8e5f0",
   "metadata": {},
   "outputs": [
    {
     "data": {
      "text/plain": [
       "array([[1, 2, 3],\n",
       "       [4, 5, 6],\n",
       "       [8, 2, 1]])"
      ]
     },
     "execution_count": 70,
     "metadata": {},
     "output_type": "execute_result"
    }
   ],
   "source": [
    "arr=np.array(x)\n",
    "arr"
   ]
  },
  {
   "cell_type": "code",
   "execution_count": null,
   "id": "f99ef498-c3c0-4a7b-82ba-44108467a44e",
   "metadata": {},
   "outputs": [],
   "source": []
  }
 ],
 "metadata": {
  "kernelspec": {
   "display_name": "Python 3 (ipykernel)",
   "language": "python",
   "name": "python3"
  },
  "language_info": {
   "codemirror_mode": {
    "name": "ipython",
    "version": 3
   },
   "file_extension": ".py",
   "mimetype": "text/x-python",
   "name": "python",
   "nbconvert_exporter": "python",
   "pygments_lexer": "ipython3",
   "version": "3.12.2"
  }
 },
 "nbformat": 4,
 "nbformat_minor": 5
}
